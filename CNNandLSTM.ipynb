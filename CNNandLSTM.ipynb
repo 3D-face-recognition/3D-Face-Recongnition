{
 "cells": [
  {
   "cell_type": "code",
   "execution_count": 1,
   "metadata": {},
   "outputs": [],
   "source": [
    "import matplotlib.pyplot as plt\n",
    "import matplotlib.image as mpimg\n",
    "\n",
    "import os\n",
    "\n",
    "from OpenGL.GL import *\n",
    "from OpenGL.GLUT import *\n",
    "import ratcave as rc\n",
    "import pyglet\n",
    "import pywavefront\n",
    "from pywavefront import visualization"
   ]
  },
  {
   "cell_type": "code",
   "execution_count": 2,
   "metadata": {},
   "outputs": [],
   "source": [
    "base_path = os.getcwd() + \"//UoY//\""
   ]
  },
  {
   "cell_type": "markdown",
   "metadata": {},
   "source": [
    "# Show 3D Object"
   ]
  },
  {
   "cell_type": "code",
   "execution_count": 3,
   "metadata": {
    "scrolled": true
   },
   "outputs": [],
   "source": [
    "# import pyglet\n",
    "# import ratcave as rc\n",
    "\n",
    "\n",
    "# # Create Window\n",
    "# window = pyglet.window.Window()\n",
    "\n",
    "# def update(dt):\n",
    "#     pass\n",
    "# pyglet.clock.schedule(update)\n",
    "\n",
    "# # Insert filename into WavefrontReader.\n",
    "# obj_filename = rc.resources.obj_primitives\n",
    "# obj_reader = rc.WavefrontReader(obj_filename)\n",
    "\n",
    "# # Create Mesh\n",
    "# monkey = obj_reader.get_mesh(\"Monkey\")\n",
    "# monkey.position.xyz = 0, 0, -2\n",
    "\n",
    "# # Create Scene\n",
    "# scene = rc.Scene(meshes=[monkey])\n",
    "\n",
    "# @window.event\n",
    "# def on_draw():\n",
    "#     with rc.default_shader:\n",
    "#         scene.draw()\n",
    "\n",
    "# pyglet.app.run()"
   ]
  },
  {
   "cell_type": "code",
   "execution_count": 4,
   "metadata": {},
   "outputs": [],
   "source": [
    "# window = pyglet.window.Window()\n",
    "\n",
    "# # visualization.draw(obj)"
   ]
  },
  {
   "cell_type": "code",
   "execution_count": null,
   "metadata": {},
   "outputs": [],
   "source": []
  },
  {
   "cell_type": "markdown",
   "metadata": {},
   "source": [
    "# Load 3D Object to array"
   ]
  },
  {
   "cell_type": "code",
   "execution_count": 5,
   "metadata": {},
   "outputs": [],
   "source": [
    "# from pymesh import obj\n",
    "# obj_filename = base_path + \"00023-14-mww38nnngy.obj\"\n",
    "# m = obj.Obj(obj_filename)"
   ]
  },
  {
   "cell_type": "code",
   "execution_count": 6,
   "metadata": {},
   "outputs": [],
   "source": [
    "from pymesh import obj\n",
    "obj_filename = base_path + \"00023-13-mww38ngngy.obj\"\n",
    "mesh = obj.Obj(obj_filename);"
   ]
  },
  {
   "cell_type": "code",
   "execution_count": 7,
   "metadata": {},
   "outputs": [
    {
     "data": {
      "text/plain": [
       "array([([0., 0., 0.], [[-13.6396 , 263.774  , 317.677  ], [-13.1525 , 260.879  , 328.165  ], [-10.4019 , 260.873  , 325.845  ]], [0]),\n",
       "       ([0., 0., 0.], [[-13.6396 , 263.774  , 317.677  ], [-10.4019 , 260.873  , 325.845  ], [-10.7587 , 263.773  , 319.053  ]], [0]),\n",
       "       ([0., 0., 0.], [[-10.7587 , 263.773  , 319.053  ], [-10.4019 , 260.873  , 325.845  ], [ -7.21512, 260.873  , 328.838  ]], [0]),\n",
       "       ...,\n",
       "       ([0., 0., 0.], [[ 64.7362 ,  64.0824 , 171.438  ], [ 63.1655 ,  62.468  , 160.091  ], [ 64.833  ,  58.7237 , 157.307  ]], [0]),\n",
       "       ([0., 0., 0.], [[ 64.833  ,  58.7237 , 157.307  ], [ 63.1655 ,  62.468  , 160.091  ], [ 61.6547 ,  61.1605 , 150.879  ]], [0]),\n",
       "       ([0., 0., 0.], [[ 61.6547 ,  61.1605 , 150.879  ], [ 63.1655 ,  62.468  , 160.091  ], [ 61.4383 ,  65.9053 , 160.738  ]], [0])],\n",
       "      dtype=[('normals', '<f4', (3,)), ('vectors', '<f4', (3, 3)), ('attr', '<u2', (1,))])"
      ]
     },
     "execution_count": 7,
     "metadata": {},
     "output_type": "execute_result"
    }
   ],
   "source": [
    "mesh.data"
   ]
  },
  {
   "cell_type": "code",
   "execution_count": null,
   "metadata": {},
   "outputs": [],
   "source": []
  },
  {
   "cell_type": "code",
   "execution_count": null,
   "metadata": {},
   "outputs": [],
   "source": []
  }
 ],
 "metadata": {
  "kernelspec": {
   "display_name": "Python 3",
   "language": "python",
   "name": "python3"
  },
  "language_info": {
   "codemirror_mode": {
    "name": "ipython",
    "version": 3
   },
   "file_extension": ".py",
   "mimetype": "text/x-python",
   "name": "python",
   "nbconvert_exporter": "python",
   "pygments_lexer": "ipython3",
   "version": "3.6.5"
  }
 },
 "nbformat": 4,
 "nbformat_minor": 2
}
