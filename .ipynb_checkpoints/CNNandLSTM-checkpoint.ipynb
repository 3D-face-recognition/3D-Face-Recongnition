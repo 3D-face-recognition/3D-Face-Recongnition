{
 "cells": [
  {
   "cell_type": "code",
   "execution_count": 1,
   "metadata": {},
   "outputs": [],
   "source": [
    "import matplotlib.pyplot as plt\n",
    "import matplotlib.image as mpimg\n",
    "import numpy as np\n",
    "import os\n",
    "\n",
    "import trimesh\n",
    "import math"
   ]
  },
  {
   "cell_type": "code",
   "execution_count": 2,
   "metadata": {},
   "outputs": [],
   "source": [
    "base_path = os.getcwd() + \"//UoY//\""
   ]
  },
  {
   "cell_type": "markdown",
   "metadata": {},
   "source": [
    "# Using trimesh package"
   ]
  },
  {
   "cell_type": "code",
   "execution_count": 3,
   "metadata": {},
   "outputs": [
    {
     "ename": "ValueError",
     "evalue": "string is not a file: C:\\Users\\user\\Desktop\\3D face model regeneration\\3D-Face-Recongnition\\3D-Face-Recongnition//UoY//00023-13-mww38ngngy.obj",
     "output_type": "error",
     "traceback": [
      "\u001b[1;31m---------------------------------------------------------------------------\u001b[0m",
      "\u001b[1;31mValueError\u001b[0m                                Traceback (most recent call last)",
      "\u001b[1;32m<ipython-input-3-ddb427db9e9e>\u001b[0m in \u001b[0;36m<module>\u001b[1;34m()\u001b[0m\n\u001b[0;32m      1\u001b[0m \u001b[0mobj_filename\u001b[0m \u001b[1;33m=\u001b[0m \u001b[0mbase_path\u001b[0m \u001b[1;33m+\u001b[0m \u001b[1;34m'00023-13-mww38ngngy.obj'\u001b[0m\u001b[1;33m\u001b[0m\u001b[0m\n\u001b[1;32m----> 2\u001b[1;33m \u001b[0mmesh\u001b[0m \u001b[1;33m=\u001b[0m \u001b[0mtrimesh\u001b[0m\u001b[1;33m.\u001b[0m\u001b[0mload\u001b[0m\u001b[1;33m(\u001b[0m\u001b[0mobj_filename\u001b[0m\u001b[1;33m)\u001b[0m\u001b[1;33m\u001b[0m\u001b[0m\n\u001b[0m",
      "\u001b[1;32mC:\\Program Files (x86)\\Microsoft Visual Studio\\Shared\\Anaconda3_64\\lib\\site-packages\\trimesh\\exchange\\load.py\u001b[0m in \u001b[0;36mload\u001b[1;34m(file_obj, file_type, resolver, **kwargs)\u001b[0m\n\u001b[0;32m    117\u001b[0m      \u001b[1;33m)\u001b[0m \u001b[1;33m=\u001b[0m \u001b[0mparse_file_args\u001b[0m\u001b[1;33m(\u001b[0m\u001b[0mfile_obj\u001b[0m\u001b[1;33m=\u001b[0m\u001b[0mfile_obj\u001b[0m\u001b[1;33m,\u001b[0m\u001b[1;33m\u001b[0m\u001b[0m\n\u001b[0;32m    118\u001b[0m                          \u001b[0mfile_type\u001b[0m\u001b[1;33m=\u001b[0m\u001b[0mfile_type\u001b[0m\u001b[1;33m,\u001b[0m\u001b[1;33m\u001b[0m\u001b[0m\n\u001b[1;32m--> 119\u001b[1;33m                          resolver=resolver)\n\u001b[0m\u001b[0;32m    120\u001b[0m \u001b[1;33m\u001b[0m\u001b[0m\n\u001b[0;32m    121\u001b[0m     \u001b[1;32mtry\u001b[0m\u001b[1;33m:\u001b[0m\u001b[1;33m\u001b[0m\u001b[0m\n",
      "\u001b[1;32mC:\\Program Files (x86)\\Microsoft Visual Studio\\Shared\\Anaconda3_64\\lib\\site-packages\\trimesh\\exchange\\load.py\u001b[0m in \u001b[0;36mparse_file_args\u001b[1;34m(file_obj, file_type, resolver, **kwargs)\u001b[0m\n\u001b[0;32m    555\u001b[0m                     'use load_remote to load URL: {}'.format(file_obj))\n\u001b[0;32m    556\u001b[0m             \u001b[1;32melif\u001b[0m \u001b[0mfile_type\u001b[0m \u001b[1;32mis\u001b[0m \u001b[1;32mNone\u001b[0m\u001b[1;33m:\u001b[0m\u001b[1;33m\u001b[0m\u001b[0m\n\u001b[1;32m--> 557\u001b[1;33m                 \u001b[1;32mraise\u001b[0m \u001b[0mValueError\u001b[0m\u001b[1;33m(\u001b[0m\u001b[1;34m'string is not a file: {}'\u001b[0m\u001b[1;33m.\u001b[0m\u001b[0mformat\u001b[0m\u001b[1;33m(\u001b[0m\u001b[0mfile_obj\u001b[0m\u001b[1;33m)\u001b[0m\u001b[1;33m)\u001b[0m\u001b[1;33m\u001b[0m\u001b[0m\n\u001b[0m\u001b[0;32m    558\u001b[0m \u001b[1;33m\u001b[0m\u001b[0m\n\u001b[0;32m    559\u001b[0m     \u001b[1;32mif\u001b[0m \u001b[0mfile_type\u001b[0m \u001b[1;32mis\u001b[0m \u001b[1;32mNone\u001b[0m\u001b[1;33m:\u001b[0m\u001b[1;33m\u001b[0m\u001b[0m\n",
      "\u001b[1;31mValueError\u001b[0m: string is not a file: C:\\Users\\user\\Desktop\\3D face model regeneration\\3D-Face-Recongnition\\3D-Face-Recongnition//UoY//00023-13-mww38ngngy.obj"
     ]
    }
   ],
   "source": [
    "obj_filename = base_path + '00023-13-mww38ngngy.obj'\n",
    "mesh = trimesh.load(obj_filename)"
   ]
  },
  {
   "cell_type": "code",
   "execution_count": null,
   "metadata": {},
   "outputs": [],
   "source": [
    "mesh.visual = mesh.visual.to_color()"
   ]
  },
  {
   "cell_type": "code",
   "execution_count": null,
   "metadata": {
    "scrolled": false
   },
   "outputs": [],
   "source": [
    "for index, facet in enumerate(mesh.visual.vertex_colors):\n",
    "    mesh.visual.vertex_colors[index] = [0,255,0,0]\n",
    "mesh.show()"
   ]
  },
  {
   "cell_type": "markdown",
   "metadata": {},
   "source": [
    "# Preprocessing - Smoothing"
   ]
  },
  {
   "cell_type": "code",
   "execution_count": null,
   "metadata": {},
   "outputs": [],
   "source": [
    "laplacian_smoothing_mesh = mesh.copy()\n",
    "trimesh.smoothing.filter_laplacian(laplacian_smoothing_mesh)\n",
    "laplacian_smoothing_mesh.show()"
   ]
  },
  {
   "cell_type": "code",
   "execution_count": null,
   "metadata": {},
   "outputs": [],
   "source": [
    "humphrey_smoothing_mesh = mesh.copy()\n",
    "trimesh.smoothing.filter_humphrey(humphrey_smoothing_mesh)\n",
    "humphrey_smoothing_mesh.show()"
   ]
  },
  {
   "cell_type": "code",
   "execution_count": null,
   "metadata": {},
   "outputs": [],
   "source": [
    "taubin_smoothing_mesh = mesh.copy()\n",
    "trimesh.smoothing.filter_taubin(taubin_smoothing_mesh)\n",
    "taubin_smoothing_mesh.show()"
   ]
  },
  {
   "cell_type": "code",
   "execution_count": null,
   "metadata": {},
   "outputs": [],
   "source": [
    "laplacian_calculation_smoothing_mesh = mesh.copy()\n",
    "trimesh.smoothing.laplacian_calculation(laplacian_calculation_smoothing_mesh)\n",
    "laplacian_calculation_smoothing_mesh.show()"
   ]
  },
  {
   "cell_type": "code",
   "execution_count": null,
   "metadata": {},
   "outputs": [],
   "source": [
    "smoothing_mesh = taubin_smoothing_mesh.copy()"
   ]
  },
  {
   "cell_type": "markdown",
   "metadata": {},
   "source": [
    "# Preprocessing - Cropping"
   ]
  },
  {
   "cell_type": "code",
   "execution_count": null,
   "metadata": {},
   "outputs": [],
   "source": [
    "class CroppingFilter():\n",
    "    def __init__(self):\n",
    "        self.mesh = None\n",
    "        self.noseIndex = 0\n",
    "        self.depthSortVertices = None\n",
    "        \n",
    "    def InitMeshAttributes(self, mesh):\n",
    "        self.mesh = mesh.copy()\n",
    "        self.depthSortVertices = sorted(self.mesh.vertices, key = lambda vertice : vertice[2], reverse = True)\n",
    "        \n",
    "    def GetMesh(self):\n",
    "        return self.mesh\n",
    "    \n",
    "    def GetNoseIndex(self):\n",
    "        return self.noseIndex\n",
    "        \n",
    "    def Filtering(self, mesh, r):\n",
    "        self.InitMeshAttributes(mesh)\n",
    "        preSphereVerticeNum = 0\n",
    "        for vertice in self.depthSortVertices:\n",
    "            mesh = self.GetShpereMesh(self.mesh, vertice, r)\n",
    "            mesh.show()\n",
    "            curSphereVerticeNum = len(mesh.vertices)\n",
    "            if curSphereVerticeNum - preSphereVerticeNum > 150:\n",
    "                self.noseIndex = self.FindNoseIndex(mesh.vertices, vertice)\n",
    "                self.mesh = mesh\n",
    "                break\n",
    "            preSphereVerticeNum = curSphereVerticeNum\n",
    "        \n",
    "    def GetShpereMesh(self, originMesh, centerVertice, r):\n",
    "        mesh = originMesh.copy()\n",
    "        sphereIndexes = self.GetSphereIndexes(mesh, centerVertice, r)\n",
    "        mesh = self.RemoveFaces(mesh, sphereIndexes)\n",
    "        mesh = self.RemoveVertices(mesh)\n",
    "        return mesh\n",
    "\n",
    "    def GetSphereIndexes(self, mesh, centerVertice, r):\n",
    "        sphereIndexes = np.array([])\n",
    "        for index, vertice in enumerate(mesh.vertices):\n",
    "            if self.EuclideanDistance(centerVertice, vertice, 3) < r:\n",
    "                sphereIndexes = np.append(sphereIndexes, index)\n",
    "        return sphereIndexes\n",
    "\n",
    "    def EuclideanDistance(self, lvertice, rvertice, dimensional):\n",
    "        euclideanDistance = 0\n",
    "        for d in range(dimensional):\n",
    "            euclideanDistance += pow(lvertice[d] - rvertice[d], 2)\n",
    "        euclideanDistance = math.sqrt(euclideanDistance)\n",
    "        return euclideanDistance\n",
    "\n",
    "    def RemoveFaces(self, mesh, sphereIndexes):\n",
    "        faces = np.empty((0,3), int)\n",
    "        for face in mesh.faces:\n",
    "            if self.IsFaceCompositionOfShpereVertices(face, sphereIndexes):\n",
    "                faces = np.append(faces, np.array([face]), axis=0)\n",
    "        mesh.faces = faces\n",
    "        return mesh\n",
    "\n",
    "    def IsFaceCompositionOfShpereVertices(self, face, sphereIndexes):\n",
    "        for vertice in face:\n",
    "            if not(vertice in sphereIndexes):\n",
    "                return False\n",
    "        return True\n",
    "\n",
    "    def RemoveVertices(self, mesh):\n",
    "        mesh.remove_unreferenced_vertices()\n",
    "        return mesh\n",
    "    \n",
    "    def FindNoseIndex(self, vertices, vertice):\n",
    "        for index in range(len(vertices)):\n",
    "            if (np.array(vertices[index]) == np.array(vertice)).all():\n",
    "                return index\n",
    "        return -1"
   ]
  },
  {
   "cell_type": "code",
   "execution_count": null,
   "metadata": {},
   "outputs": [],
   "source": [
    "croppingFilter = CroppingFilter()\n",
    "croppingFilter.Filtering(smoothing_mesh, 125)\n",
    "cropping_mesh = croppingFilter.GetMesh()\n",
    "cropping_mesh.visual.vertex_colors[croppingFilter.GetNoseIndex()] = [255,0,0,0]\n",
    "cropping_mesh.show()"
   ]
  },
  {
   "cell_type": "markdown",
   "metadata": {},
   "source": [
    "# Feature Selection"
   ]
  },
  {
   "cell_type": "code",
   "execution_count": null,
   "metadata": {},
   "outputs": [],
   "source": [
    "from scipy import exp\n",
    "from scipy.linalg import eigh\n",
    "from scipy.spatial.distance import pdist, squareform\n",
    "class Features_Selector(object):\n",
    "    def __init__(self):\n",
    "        self.mesh = None \n",
    "    \"\"\"\n",
    "    For randomly generating the feaure points.\n",
    "    Select_m_points is callable.\n",
    "    \n",
    "    Parameters:\n",
    "    ----------\n",
    "    mesh: {Trimesh}\n",
    "    \"\"\"\n",
    "    \n",
    "    def select_m_points(self, mesh, m=100):\n",
    "        #randomly generate m points index\n",
    "        selected_index = []\n",
    "        iter_time = 0\n",
    "        vertices = mesh.vertices\n",
    "        while(len(selected_index)<m and iter_time<10000):\n",
    "            random_index = random.randint(0, len(vertices)-1)\n",
    "            if self.is_maintain_distance(vertices[random_index], vertices[selected_index], 20):\n",
    "                selected_index.append(random_index)\n",
    "            iter_time+=1\n",
    "    \n",
    "        #draw the points on mesh\n",
    "        #print(\"length of selected: \", len(selected_index))\n",
    "        self.visual_selected_points(mesh, selected_index)\n",
    "        return vertices[selected_index]\n",
    "\n",
    "    def count_distance(self, p1, p2):\n",
    "            return np.power(np.sum(np.square(p1 - p2)), 0.5)\n",
    "\n",
    "    def is_maintain_distance(self, point, selected_points, distance):\n",
    "        for selected_point in selected_points:\n",
    "            if collections.Counter(point) == collections.Counter(selected_point):\n",
    "                continue\n",
    "            elif self.count_distance(point, selected_point) < distance:\n",
    "                #print(count_distance(point, selected_point))\n",
    "                return False\n",
    "        return True\n",
    "\n",
    "    \"\"\"\n",
    "    Show the  feature points on the 3D face obj\n",
    "    \n",
    "    Parameters:\n",
    "    ---------------\n",
    "    mesh: {Trimesh}\n",
    "    selected_index: {Numpy array}\n",
    "        the point color you want to change\n",
    "    \"\"\"\n",
    "    def visual_selected_points(self, mesh, selected_index, selected_color=[255,0,0,0],\n",
    "                          not_selected_color=[0,255,0,0]):\n",
    "        # unite the color of points on face\n",
    "        for index, vertex_color in enumerate(mesh.visual.vertex_colors):\n",
    "            if index in selected_index:\n",
    "                mesh.visual.vertex_colors[index] =  selected_color\n",
    "            else:\n",
    "                mesh.visual.vertex_colors[index] = not_selected_color\n",
    "    \n",
    "    \"\"\"\n",
    "    Expand the feature points to 5 dimension.\n",
    "    generate_F is callable\n",
    "    \n",
    "    Parameters:\n",
    "    ----------------------\n",
    "    mesh:{Trimesh}\n",
    "    features_v:{Numpy array}, shape = [quantity of feaure points, 3]\n",
    "    \"\"\"\n",
    "    #F = [xi, yi, zi, k1, k2, Dj]\n",
    "    def generate_F(self, mesh, features_v):\n",
    "        features_f = []\n",
    "        for vertices in features_v:\n",
    "            F = []\n",
    "            #add Xi, Yi, Zi\n",
    "            F.append(vertices[0])\n",
    "            F.append(vertices[1])\n",
    "            F.append(vertices[2])\n",
    "\n",
    "            #add K1, K2\n",
    "            unique_v_index = self.find_unique_vertices_index_from_faces(mesh, vertices)\n",
    "            gradients_v = [ np.gradient([vertices, mesh.vertices[index]])[0][0] for index in unique_v_index]\n",
    "            max_k, min_k = self.decide_min_and_max_k_values(gradients_v)\n",
    "            F.append(max_k)\n",
    "            F.append(min_k)\n",
    "\n",
    "            #add Dj\n",
    "            Dj = self.distance_from_origin(vertices)\n",
    "            F.append(Dj)\n",
    "            features_f.append(F)\n",
    "        return np.array(features_f)\n",
    "    #The method here is not completely similar as paper\n",
    "    def decide_min_and_max_k_values(self, gradients_v):\n",
    "        Ks = []\n",
    "        for gradient_v in gradients_v:\n",
    "            dz_dx = gradient_v[2] / gradient_v[0]\n",
    "            dz_dy = gradient_v[2] / gradient_v[1]\n",
    "            Ks.append(np.power(dz_dx**2 + dz_dy ** 2, 0.5))\n",
    "    #     print(\"max k index\",np.argmax(np.array(Ks)))\n",
    "    #     print(\"min k index\",np.argmin(np.array(Ks)))\n",
    "        return Ks[np.argmax(np.array(Ks))], Ks[np.argmin(np.array(Ks))]\n",
    "\n",
    "\n",
    "    def find_unique_vertices_index_from_faces(self, mesh, center):\n",
    "        faces_f_index =  trimesh.proximity.nearby_faces(mesh, [center])\n",
    "        faces_v_index = mesh.faces[faces_f_index]\n",
    "        unique_v_index = []\n",
    "        for face in faces_v_index:\n",
    "            for v_index in face:\n",
    "                if (mesh.vertices[v_index] == center).all():\n",
    "                    continue\n",
    "                elif v_index not in unique_v_index:\n",
    "                    unique_v_index.append(v_index)\n",
    "        return unique_v_index\n",
    "\n",
    "    def distance_from_origin(self, point):\n",
    "        s=0\n",
    "        for index in range(len(point)):\n",
    "             s += point[index] ** 2\n",
    "        return np.power(s, 0.5)     \n",
    "    \n",
    "    \"\"\"\n",
    "    Complement Kernel PCA by using KBF\n",
    "    rbf_kernel_pca is callable.\n",
    "    \n",
    "    Parameters:\n",
    "    -----------------\n",
    "    X: {Numpy array}, shape=[quantity of data, quantity of features],\n",
    "       X should be Stanardized.\n",
    "    \n",
    "    gamma: {positive number}\n",
    "    \n",
    "    n_components: int\n",
    "    \"\"\"\n",
    "    \n",
    "    def rbf_kernel_pca(self, X, gamma,n_components):\n",
    "        #print(\"gamma\\n\", gamma)\n",
    "        sq_dists = pdist(X, 'sqeuclidean')\n",
    "        #print(\"SQ DISTS:\", sq_dists)\n",
    "        mat_sq_dists = squareform(sq_dists)\n",
    "        #print(\"MAT SQ DISTS\\n\", mat_sq_dists)\n",
    "        K = exp(-gamma * mat_sq_dists)\n",
    "        #print(\"K\\n\", K)\n",
    "\n",
    "        N = K.shape[0]\n",
    "        one_n = np.ones((N,N))/N\n",
    "        K = K - one_n.dot(K) - K.dot(one_n) + one_n.dot(K).dot(one_n)\n",
    "\n",
    "        eigvals, eigvecs = eigh(K)\n",
    "        eigvals, eigvecs = eigvals[::-1], eigvecs[:, ::-1]\n",
    "        X_pc = np.column_stack((eigvecs[:, i] for i in range(n_components)))\n",
    "        return np.array(X_pc)"
   ]
  },
  {
   "cell_type": "code",
   "execution_count": null,
   "metadata": {},
   "outputs": [],
   "source": [
    "FS = Features_Selector\n",
    "feaure_points = FS.select_m_points(mesh)\n",
    "X = FS.generate_F(mesh, feature_points)\n",
    "\n",
    "std = StandardScaler()\n",
    "X_std = std.fit_transform(X)\n",
    "X_pca = FS.rbf_kernel_pca(X_std, 15, 2)"
   ]
  },
  {
   "cell_type": "code",
   "execution_count": null,
   "metadata": {},
   "outputs": [],
   "source": []
  },
  {
   "cell_type": "code",
   "execution_count": null,
   "metadata": {},
   "outputs": [],
   "source": []
  }
 ],
 "metadata": {
  "kernelspec": {
   "display_name": "Python 3",
   "language": "python",
   "name": "python3"
  },
  "language_info": {
   "codemirror_mode": {
    "name": "ipython",
    "version": 3
   },
   "file_extension": ".py",
   "mimetype": "text/x-python",
   "name": "python",
   "nbconvert_exporter": "python",
   "pygments_lexer": "ipython3",
   "version": "3.6.5"
  }
 },
 "nbformat": 4,
 "nbformat_minor": 2
}
